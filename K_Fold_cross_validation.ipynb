{
  "nbformat": 4,
  "nbformat_minor": 0,
  "metadata": {
    "colab": {
      "name": "Copy of In_class_K_Fold_cross_validation.ipynb",
      "provenance": [],
      "collapsed_sections": [],
      "include_colab_link": true
    },
    "kernelspec": {
      "name": "python3",
      "display_name": "Python 3"
    }
  },
  "cells": [
    {
      "cell_type": "markdown",
      "metadata": {
        "id": "view-in-github",
        "colab_type": "text"
      },
      "source": [
        "<a href=\"https://colab.research.google.com/github/rajeshrockzz/Colab_Files/blob/main/K_Fold_cross_validation.ipynb\" target=\"_parent\"><img src=\"https://colab.research.google.com/assets/colab-badge.svg\" alt=\"Open In Colab\"/></a>"
      ]
    },
    {
      "cell_type": "code",
      "metadata": {
        "id": "hH9rNP0IhyTl"
      },
      "source": [
        "# https://www.kaggle.com/nee2shaji/for-novices-practical-scikit-basics-part-1\n",
        "\n",
        "# https://github.com/Msanjayds/Scikit-learn/blob/master/CrossValidation.ipynb"
      ],
      "execution_count": null,
      "outputs": []
    },
    {
      "cell_type": "markdown",
      "source": [
        "https://www.youtube.com/watch?v=2VPn6EBn1v8"
      ],
      "metadata": {
        "id": "3lDFBefE9dj1"
      }
    },
    {
      "cell_type": "code",
      "metadata": {
        "id": "sBldl2zWirG7",
        "colab": {
          "base_uri": "https://localhost:8080/"
        },
        "outputId": "ef35e619-f66f-4d33-d8e8-1d33656be0b2"
      },
      "source": [
        "import numpy as np\n",
        "from sklearn.model_selection import KFold, LeaveOneOut, StratifiedKFold\n",
        "\n",
        "X = np.ones(10)\n",
        "y = [0, 0, 0, 0, 1, 1, 1, 1, 1, 1]\n",
        "\n",
        "kf = KFold(n_splits=3)\n",
        "print(\"KFold:\")\n",
        "for train, test in kf.split(X):\n",
        "    print(\"%s %s\" % (train, test))"
      ],
      "execution_count": null,
      "outputs": [
        {
          "output_type": "stream",
          "name": "stdout",
          "text": [
            "KFold:\n",
            "[4 5 6 7 8 9] [0 1 2 3]\n",
            "[0 1 2 3 7 8 9] [4 5 6]\n",
            "[0 1 2 3 4 5 6] [7 8 9]\n"
          ]
        }
      ]
    },
    {
      "cell_type": "code",
      "metadata": {
        "id": "72hUN5Zsirkp"
      },
      "source": [
        "from sklearn import datasets\n",
        "from sklearn.model_selection import cross_val_score, cross_val_predict\n",
        "from sklearn import linear_model\n",
        "from sklearn.ensemble import RandomForestRegressor\n",
        "from sklearn.model_selection import train_test_split\n",
        "import numpy as np\n",
        "from sklearn.metrics import mean_squared_error,r2_score\n",
        "from sklearn.model_selection import KFold\n",
        "import pandas as pd\n",
        "from sklearn import metrics"
      ],
      "execution_count": null,
      "outputs": []
    },
    {
      "cell_type": "code",
      "metadata": {
        "id": "twWaOmtBjaql",
        "colab": {
          "base_uri": "https://localhost:8080/"
        },
        "outputId": "6859e8cd-b7d7-418e-af09-57bc2410c549"
      },
      "source": [
        "# Load the boston dataset\n",
        "data = datasets.load_boston()\n",
        " \n",
        "# extract the predictors and target data.\n",
        "predictors = data.data\n",
        "target = data.target"
      ],
      "execution_count": null,
      "outputs": [
        {
          "output_type": "stream",
          "name": "stderr",
          "text": [
            "/usr/local/lib/python3.7/dist-packages/sklearn/utils/deprecation.py:87: FutureWarning: Function load_boston is deprecated; `load_boston` is deprecated in 1.0 and will be removed in 1.2.\n",
            "\n",
            "    The Boston housing prices dataset has an ethical problem. You can refer to\n",
            "    the documentation of this function for further details.\n",
            "\n",
            "    The scikit-learn maintainers therefore strongly discourage the use of this\n",
            "    dataset unless the purpose of the code is to study and educate about\n",
            "    ethical issues in data science and machine learning.\n",
            "\n",
            "    In this special case, you can fetch the dataset from the original\n",
            "    source::\n",
            "\n",
            "        import pandas as pd\n",
            "        import numpy as np\n",
            "\n",
            "\n",
            "        data_url = \"http://lib.stat.cmu.edu/datasets/boston\"\n",
            "        raw_df = pd.read_csv(data_url, sep=\"\\s+\", skiprows=22, header=None)\n",
            "        data = np.hstack([raw_df.values[::2, :], raw_df.values[1::2, :2]])\n",
            "        target = raw_df.values[1::2, 2]\n",
            "\n",
            "    Alternative datasets include the California housing dataset (i.e.\n",
            "    :func:`~sklearn.datasets.fetch_california_housing`) and the Ames housing\n",
            "    dataset. You can load the datasets as follows::\n",
            "\n",
            "        from sklearn.datasets import fetch_california_housing\n",
            "        housing = fetch_california_housing()\n",
            "\n",
            "    for the California housing dataset and::\n",
            "\n",
            "        from sklearn.datasets import fetch_openml\n",
            "        housing = fetch_openml(name=\"house_prices\", as_frame=True)\n",
            "\n",
            "    for the Ames housing dataset.\n",
            "    \n",
            "  warnings.warn(msg, category=FutureWarning)\n"
          ]
        }
      ]
    },
    {
      "cell_type": "code",
      "metadata": {
        "id": "mMVjBbtIj0zt",
        "colab": {
          "base_uri": "https://localhost:8080/"
        },
        "outputId": "1e3f6dc3-11ee-48aa-c73e-009c966390e3"
      },
      "source": [
        "predictors.shape, target.shape"
      ],
      "execution_count": null,
      "outputs": [
        {
          "output_type": "execute_result",
          "data": {
            "text/plain": [
              "((506, 13), (506,))"
            ]
          },
          "metadata": {},
          "execution_count": 4
        }
      ]
    },
    {
      "cell_type": "code",
      "metadata": {
        "id": "e-jqLSSfkPVW"
      },
      "source": [
        "x_train,x_test,y_train,y_test = train_test_split(predictors,target,test_size = 0.2)"
      ],
      "execution_count": null,
      "outputs": []
    },
    {
      "cell_type": "code",
      "metadata": {
        "id": "7nWAVWeNkQ6q",
        "colab": {
          "base_uri": "https://localhost:8080/"
        },
        "outputId": "557532ea-65ac-4259-9981-d21527059962"
      },
      "source": [
        "x_train.shape,x_test.shape,y_train.shape,y_test.shape"
      ],
      "execution_count": null,
      "outputs": [
        {
          "output_type": "execute_result",
          "data": {
            "text/plain": [
              "((404, 13), (102, 13), (404,), (102,))"
            ]
          },
          "metadata": {},
          "execution_count": 6
        }
      ]
    },
    {
      "cell_type": "code",
      "metadata": {
        "id": "iznWFPWAkSP7",
        "colab": {
          "base_uri": "https://localhost:8080/"
        },
        "outputId": "54a7f30a-4fa6-4cba-a3e8-e554660f0c0b"
      },
      "source": [
        "rf_reg = RandomForestRegressor()\n",
        "rf_reg.fit(x_train,y_train)"
      ],
      "execution_count": null,
      "outputs": [
        {
          "output_type": "execute_result",
          "data": {
            "text/plain": [
              "RandomForestRegressor()"
            ]
          },
          "metadata": {},
          "execution_count": 7
        }
      ]
    },
    {
      "cell_type": "code",
      "metadata": {
        "id": "ibCCGX47kTua"
      },
      "source": [
        "y_pred = rf_reg.predict(x_test)"
      ],
      "execution_count": null,
      "outputs": []
    },
    {
      "cell_type": "code",
      "metadata": {
        "id": "TLDY2o_okVP4",
        "colab": {
          "base_uri": "https://localhost:8080/"
        },
        "outputId": "18e72cf5-79c9-4429-8631-eaea15498e1e"
      },
      "source": [
        "rsqure_score = rf_reg.score(x_train,y_train)\n",
        "print('R^2: {}'.format(rsqure_score))"
      ],
      "execution_count": null,
      "outputs": [
        {
          "output_type": "stream",
          "name": "stdout",
          "text": [
            "R^2: 0.9808878192868337\n"
          ]
        }
      ]
    },
    {
      "cell_type": "code",
      "metadata": {
        "id": "jAOz1f7MkWuQ",
        "colab": {
          "base_uri": "https://localhost:8080/"
        },
        "outputId": "acf690a3-39df-41e7-d5e9-232f78bd164c"
      },
      "source": [
        "#perform k fold\n",
        "cv_r2_scores_rf = cross_val_score(rf_reg, predictors, target, cv=5,scoring='r2')\n",
        "print(cv_r2_scores_rf)\n",
        "print(\"Mean 5-Fold R Squared: {}\".format(np.mean(cv_r2_scores_rf)))"
      ],
      "execution_count": null,
      "outputs": [
        {
          "output_type": "stream",
          "name": "stdout",
          "text": [
            "[0.76945939 0.8546966  0.75552691 0.47881971 0.29695824]\n",
            "Mean 5-Fold R Squared: 0.631092169761158\n"
          ]
        }
      ]
    },
    {
      "cell_type": "code",
      "metadata": {
        "id": "WRU5Yiv0kZTq",
        "colab": {
          "base_uri": "https://localhost:8080/"
        },
        "outputId": "399ab538-b06d-4b10-d4d0-932767d44d90"
      },
      "source": [
        "#perform kfold manually\n",
        "# Load the boston dataset\n",
        "data = datasets.load_boston()\n",
        " \n",
        "# extract the predictors and target data.\n",
        "df = pd.DataFrame(data.data)\n",
        "y =  pd.DataFrame(data.target)"
      ],
      "execution_count": null,
      "outputs": [
        {
          "output_type": "stream",
          "name": "stderr",
          "text": [
            "/usr/local/lib/python3.7/dist-packages/sklearn/utils/deprecation.py:87: FutureWarning: Function load_boston is deprecated; `load_boston` is deprecated in 1.0 and will be removed in 1.2.\n",
            "\n",
            "    The Boston housing prices dataset has an ethical problem. You can refer to\n",
            "    the documentation of this function for further details.\n",
            "\n",
            "    The scikit-learn maintainers therefore strongly discourage the use of this\n",
            "    dataset unless the purpose of the code is to study and educate about\n",
            "    ethical issues in data science and machine learning.\n",
            "\n",
            "    In this special case, you can fetch the dataset from the original\n",
            "    source::\n",
            "\n",
            "        import pandas as pd\n",
            "        import numpy as np\n",
            "\n",
            "\n",
            "        data_url = \"http://lib.stat.cmu.edu/datasets/boston\"\n",
            "        raw_df = pd.read_csv(data_url, sep=\"\\s+\", skiprows=22, header=None)\n",
            "        data = np.hstack([raw_df.values[::2, :], raw_df.values[1::2, :2]])\n",
            "        target = raw_df.values[1::2, 2]\n",
            "\n",
            "    Alternative datasets include the California housing dataset (i.e.\n",
            "    :func:`~sklearn.datasets.fetch_california_housing`) and the Ames housing\n",
            "    dataset. You can load the datasets as follows::\n",
            "\n",
            "        from sklearn.datasets import fetch_california_housing\n",
            "        housing = fetch_california_housing()\n",
            "\n",
            "    for the California housing dataset and::\n",
            "\n",
            "        from sklearn.datasets import fetch_openml\n",
            "        housing = fetch_openml(name=\"house_prices\", as_frame=True)\n",
            "\n",
            "    for the Ames housing dataset.\n",
            "    \n",
            "  warnings.warn(msg, category=FutureWarning)\n"
          ]
        }
      ]
    },
    {
      "cell_type": "code",
      "metadata": {
        "id": "A6MIekUJkl1V",
        "colab": {
          "base_uri": "https://localhost:8080/"
        },
        "outputId": "ca371f65-b2e3-416b-f0b8-a8bdffedd045"
      },
      "source": [
        "df.shape,y.shape"
      ],
      "execution_count": null,
      "outputs": [
        {
          "output_type": "execute_result",
          "data": {
            "text/plain": [
              "((506, 13), (506, 1))"
            ]
          },
          "metadata": {},
          "execution_count": 12
        }
      ]
    },
    {
      "cell_type": "code",
      "metadata": {
        "id": "cJQ5_b6tknZC"
      },
      "source": [
        "kf = KFold(n_splits = 5, shuffle = True)\n",
        "rf_reg = RandomForestRegressor()"
      ],
      "execution_count": null,
      "outputs": []
    },
    {
      "cell_type": "code",
      "metadata": {
        "id": "ZZ4ctv8hko09",
        "colab": {
          "base_uri": "https://localhost:8080/"
        },
        "outputId": "cd7006f9-c4c0-44e0-aba0-aa4331186e68"
      },
      "source": [
        "scores = []\n",
        "for i in range(5):\n",
        "    result = next(kf.split(df), None)\n",
        "    x_train = df.iloc[result[0]]\n",
        "    x_test = df.iloc[result[1]]\n",
        "    y_train = y.iloc[result[0]]\n",
        "    y_test = y.iloc[result[1]]\n",
        "    model = rf_reg.fit(x_train,y_train)\n",
        "    predictions = rf_reg.predict(x_test)\n",
        "    scores.append(model.score(x_test,y_test))\n",
        "print('Scores from each Iteration: ', scores)\n",
        "print('Average K-Fold Score :' , np.mean(scores))"
      ],
      "execution_count": null,
      "outputs": [
        {
          "output_type": "stream",
          "name": "stderr",
          "text": [
            "/usr/local/lib/python3.7/dist-packages/ipykernel_launcher.py:8: DataConversionWarning: A column-vector y was passed when a 1d array was expected. Please change the shape of y to (n_samples,), for example using ravel().\n",
            "  \n",
            "/usr/local/lib/python3.7/dist-packages/ipykernel_launcher.py:8: DataConversionWarning: A column-vector y was passed when a 1d array was expected. Please change the shape of y to (n_samples,), for example using ravel().\n",
            "  \n",
            "/usr/local/lib/python3.7/dist-packages/ipykernel_launcher.py:8: DataConversionWarning: A column-vector y was passed when a 1d array was expected. Please change the shape of y to (n_samples,), for example using ravel().\n",
            "  \n",
            "/usr/local/lib/python3.7/dist-packages/ipykernel_launcher.py:8: DataConversionWarning: A column-vector y was passed when a 1d array was expected. Please change the shape of y to (n_samples,), for example using ravel().\n",
            "  \n",
            "/usr/local/lib/python3.7/dist-packages/ipykernel_launcher.py:8: DataConversionWarning: A column-vector y was passed when a 1d array was expected. Please change the shape of y to (n_samples,), for example using ravel().\n",
            "  \n"
          ]
        },
        {
          "output_type": "stream",
          "name": "stdout",
          "text": [
            "Scores from each Iteration:  [0.8782339493189784, 0.7363149295560476, 0.8908938557143831, 0.8901405949089344, 0.9153084945184521]\n",
            "Average K-Fold Score : 0.8621783648033592\n"
          ]
        }
      ]
    },
    {
      "cell_type": "code",
      "metadata": {
        "id": "BGA6siY4kq7T"
      },
      "source": [
        "import pickle\n",
        "filename = 'final_model.sav'\n",
        "pickle.dump(rf_reg, open(filename, 'wb'))"
      ],
      "execution_count": null,
      "outputs": []
    },
    {
      "cell_type": "code",
      "source": [
        "file = open(\"final_model.sav\",\"rb\")\n",
        "load_model = pickle.load(file)\n",
        "file.close()"
      ],
      "metadata": {
        "id": "gPUA1RZ4AEG8"
      },
      "execution_count": null,
      "outputs": []
    },
    {
      "cell_type": "code",
      "source": [
        "load_model"
      ],
      "metadata": {
        "colab": {
          "base_uri": "https://localhost:8080/"
        },
        "id": "dGsKFAnoAH6U",
        "outputId": "45c26d47-e608-4fbc-f04b-2a0b48ef0e43"
      },
      "execution_count": null,
      "outputs": [
        {
          "output_type": "execute_result",
          "data": {
            "text/plain": [
              "RandomForestRegressor()"
            ]
          },
          "metadata": {},
          "execution_count": 18
        }
      ]
    },
    {
      "cell_type": "code",
      "source": [
        ""
      ],
      "metadata": {
        "id": "Sza49oX3Adcy"
      },
      "execution_count": null,
      "outputs": []
    }
  ]
}